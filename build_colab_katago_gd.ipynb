{
  "nbformat": 4,
  "nbformat_minor": 0,
  "metadata": {
    "colab": {
      "name": "build-colab-katago-gd.ipynb",
      "provenance": [],
      "collapsed_sections": [],
      "authorship_tag": "ABX9TyORWe1OgzKjMw9/Z4VslUDh",
      "include_colab_link": true
    },
    "kernelspec": {
      "name": "python3",
      "display_name": "Python 3"
    },
    "language_info": {
      "name": "python"
    },
    "accelerator": "GPU"
  },
  "cells": [
    {
      "cell_type": "markdown",
      "metadata": {
        "id": "view-in-github",
        "colab_type": "text"
      },
      "source": [
        "<a href=\"https://colab.research.google.com/github/mildinvestor/katago-colab/blob/master/build_colab_katago_gd.ipynb\" target=\"_parent\"><img src=\"https://colab.research.google.com/assets/colab-badge.svg\" alt=\"Open In Colab\"/></a>"
      ]
    },
    {
      "cell_type": "markdown",
      "metadata": {
        "id": "eqmFzmDm4V_e"
      },
      "source": [
        "#Build colab-katago-gd client binaries"
      ]
    },
    {
      "cell_type": "code",
      "metadata": {
        "id": "wCMup8dkJade"
      },
      "source": [
        "GIT_REPOSITORY_URL = 'https://github.com/mildinvestor/katago-colab.git'\n",
        "\n",
        "# Install Golang and git\n",
        "!add-apt-repository ppa:longsleep/golang-backports -y 1>/dev/nul\n",
        "!apt-get update 1>/dev/nul\n",
        "!apt-get install --yes git golang-go 1>/dev/nul\n",
        "%env GOPATH=/root/go\n",
        "\n",
        "# Display version\n",
        "!git version\n",
        "!go version\n",
        "\n",
        "%cd /content\n",
        "\n",
        "# Clone katago-colab\n",
        "!rm -rf katago-colab\n",
        "!git clone $GIT_REPOSITORY_URL\n",
        "\n",
        "# Build colab-katago\n",
        "%cd katago-colab\n",
        "!chmod +x ./package.sh\n",
        "!./package.sh\n",
        "\n",
        "# File list\n",
        "!ls -l ./bin/\n",
        "\n",
        "# Zip and donwload\n",
        "!zip -r ./colab-katag-gd-bin.zip ./bin/*.zip\n",
        "from google.colab import files\n",
        "files.download(\"./colab-katag-gd-bin.zip\")"
      ],
      "execution_count": null,
      "outputs": []
    },
    {
      "cell_type": "markdown",
      "metadata": {
        "id": "Ot1zIpF113VR"
      },
      "source": [
        "#Compile KataGo OPENCL for colab-katago\n",
        "\n",
        "https://github.com/lightvector/KataGo/blob/master/Compiling.md"
      ]
    },
    {
      "cell_type": "code",
      "metadata": {
        "id": "xz0CAvnzG_70"
      },
      "source": [
        "#@markdown KataGo version\n",
        "TAG = \"v1.9.1\" #@param {type:\"string\"}\n",
        "\n",
        "# Install libraries\n",
        "!apt-get update 1>/dev/nul\n",
        "!apt-get install --yes git libzip-dev cmake 1>/dev/nul\n",
        "\n",
        "import subprocess\n",
        "gpu_name = str(subprocess.check_output(\"nvidia-smi -q | grep \\\"Product Name\\\" | cut -d\\\":\\\" -f2 | tr -cd '[:alnum:]._-'\", shell=True), encoding='utf-8')\n",
        "print(\"GPU: {}\".format(gpu_name))\n",
        "\n",
        "%cd /content\n",
        "\n",
        "# Checkout source of KataGo\n",
        "!git clone https://github.com/lightvector/KataGo.git\n",
        "!git checkout $TAG\n",
        "\n",
        "# Compile\n",
        "%cd KataGo/cpp\n",
        "!cmake . -DUSE_BACKEND=OPENCL\n",
        "#!cmake . -DUSE_BACKEND=OPENCL -DUSE_TCMALLOC=1\n",
        "!make\n",
        "\n",
        "# Display version\n",
        "!./katago version\n",
        "\n",
        "# Download KataGo binary\n",
        "!zip -r ./katago.zip ./katago\n",
        "from google.colab import files\n",
        "files.download(\"./katago.zip\")"
      ],
      "execution_count": null,
      "outputs": []
    },
    {
      "cell_type": "markdown",
      "metadata": {
        "id": "pHx2tAMzzetd"
      },
      "source": [
        "#Create a tuning file of KataGo"
      ]
    },
    {
      "cell_type": "code",
      "metadata": {
        "id": "50k2QAaZHB6l"
      },
      "source": [
        "WEIGHT_URL = 'https://media.katagotraining.org/uploaded/networks/models/kata1/kata1-b40c256-s9854456576-d2405111631.bin.gz'\n",
        "!wget --quiet $WEIGHT_URL -O /content/weight.bin.gz\n",
        "\n",
        "%cd /content\n",
        "!./KataGo/cpp/katago version\n",
        "# New tuning features in KataGo v1.9.0 and later\n",
        "!./KataGo/cpp/katago tuner -model ./weight.bin.gz -config ./KataGo/cpp/configs/gtp_example.cfg\n",
        "#!./KataGo/cpp/katago benchmark -model ./weight.bin.gz -config ./KataGo/cpp/configs/gtp_example.cfg -v 300\n",
        "\n",
        "!zip -r ./opencltuning.zip /root/.katago/opencltuning\n",
        "from google.colab import files\n",
        "files.download(\"./opencltuning.zip\")"
      ],
      "execution_count": null,
      "outputs": []
    },
    {
      "cell_type": "markdown",
      "metadata": {
        "id": "kMOxSGtDzSJt"
      },
      "source": [
        "#The following sections are for debugging only, you can ignore."
      ]
    },
    {
      "cell_type": "markdown",
      "metadata": {
        "id": "N8mGWedw1JrC"
      },
      "source": [
        "##GPU information"
      ]
    },
    {
      "cell_type": "code",
      "metadata": {
        "id": "aCuSjKnKIhWz"
      },
      "source": [
        "!nvidia-smi"
      ],
      "execution_count": null,
      "outputs": []
    }
  ]
}